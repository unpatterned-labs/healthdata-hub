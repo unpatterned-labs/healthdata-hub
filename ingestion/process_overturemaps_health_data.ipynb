{
 "cells": [
  {
   "metadata": {
    "ExecuteTime": {
     "end_time": "2025-02-23T14:27:26.545100Z",
     "start_time": "2025-02-23T14:27:26.527277Z"
    }
   },
   "cell_type": "code",
   "source": [
    "import pyarrow.dataset as ds\n",
    "import pyarrow.compute as pc\n",
    "import pyarrow as pa\n",
    "import polars as pl\n",
    "import pyarrow.fs as fs"
   ],
   "id": "14eb20a5004e417f",
   "outputs": [],
   "execution_count": 96
  },
  {
   "metadata": {
    "ExecuteTime": {
     "end_time": "2025-02-23T14:27:31.281680Z",
     "start_time": "2025-02-23T14:27:28.715655Z"
    }
   },
   "cell_type": "code",
   "source": [
    "s3_path = \"overturemaps-us-west-2/release/2025-02-19.0/theme=places/type=place/\"\n",
    "\n",
    "dataset = ds.dataset(s3_path, filesystem=fs.S3FileSystem(anonymous=True, region=\"us-west-2\"))"
   ],
   "id": "3a3db7225fe69d18",
   "outputs": [],
   "execution_count": 97
  },
  {
   "metadata": {
    "ExecuteTime": {
     "end_time": "2025-02-23T14:27:34.947149Z",
     "start_time": "2025-02-23T14:27:34.928916Z"
    }
   },
   "cell_type": "code",
   "source": [
    "## setting bounding box\n",
    "bbox = (-2.1099092231, 52.3556570611, -1.6529557739, 52.5474833593)\n",
    "\n",
    "# Define bounding box filter\n",
    "bbox_filter = (\n",
    "    (pc.field(\"bbox\", \"xmin\") < bbox[2]) &\n",
    "    (pc.field(\"bbox\", \"xmax\") > bbox[0]) &\n",
    "    (pc.field(\"bbox\", \"ymin\") < bbox[3]) &\n",
    "    (pc.field(\"bbox\", \"ymax\") > bbox[1])\n",
    ")"
   ],
   "id": "b134cf17bd0b55c1",
   "outputs": [],
   "execution_count": 98
  },
  {
   "metadata": {
    "ExecuteTime": {
     "end_time": "2025-02-23T14:28:57.939446Z",
     "start_time": "2025-02-23T14:28:15.386840Z"
    }
   },
   "cell_type": "code",
   "source": [
    "batches = dataset.to_batches(filter=bbox_filter)\n",
    "\n",
    "## Non Empty batch of the partitioned data\n",
    "non_empty_batches = [b for b in batches if b.num_rows > 0]"
   ],
   "id": "221dfc13ada34056",
   "outputs": [],
   "execution_count": 99
  },
  {
   "metadata": {
    "ExecuteTime": {
     "end_time": "2025-02-23T14:31:28.082381Z",
     "start_time": "2025-02-23T14:31:28.069747Z"
    }
   },
   "cell_type": "code",
   "source": [
    "# Convert batches to a PyArrow Table\n",
    "table = pa.Table.from_batches(non_empty_batches)"
   ],
   "id": "e22d8709b80b2bb4",
   "outputs": [],
   "execution_count": 100
  },
  {
   "metadata": {
    "ExecuteTime": {
     "end_time": "2025-02-23T14:31:31.318425Z",
     "start_time": "2025-02-23T14:31:31.296146Z"
    }
   },
   "cell_type": "code",
   "source": [
    "## Because polar isn't compatible with MAP types of arrow\n",
    "## We had to convert it to list of structs and work with the data\n",
    "def convert_map_to_list_of_structs(table: pa.Table) -> pa.Table:\n",
    "    \"\"\"Convert all Map types in the table to List[Struct].\"\"\"\n",
    "    new_schema = []\n",
    "    for field in table.schema:\n",
    "        def _convert_type(data_type):\n",
    "            if isinstance(data_type, pa.MapType):\n",
    "                return pa.list_(\n",
    "                    pa.struct([\n",
    "                        pa.field(\"key\", data_type.key_type),\n",
    "                        pa.field(\"value\", data_type.item_type)\n",
    "                    ])\n",
    "                )\n",
    "            elif isinstance(data_type, pa.StructType):\n",
    "                return pa.struct([\n",
    "                    pa.field(f.name, _convert_type(f.type)) for f in data_type\n",
    "                ])\n",
    "            elif isinstance(data_type, pa.ListType):\n",
    "                return pa.list_(_convert_type(data_type.value_type))\n",
    "            else:\n",
    "                return data_type\n",
    "        new_type = _convert_type(field.type)\n",
    "        new_schema.append(pa.field(field.name, new_type))\n",
    "    return table.cast(pa.schema(new_schema))"
   ],
   "id": "2cd5242eb27b21bb",
   "outputs": [],
   "execution_count": 101
  },
  {
   "metadata": {
    "ExecuteTime": {
     "end_time": "2025-02-23T14:31:35.214636Z",
     "start_time": "2025-02-23T14:31:35.196666Z"
    }
   },
   "cell_type": "code",
   "source": [
    "# Convert Map types to List[Struct]\n",
    "converted_table = convert_map_to_list_of_structs(table)"
   ],
   "id": "d33593c728f3b297",
   "outputs": [],
   "execution_count": 102
  },
  {
   "metadata": {
    "ExecuteTime": {
     "end_time": "2025-02-23T14:32:21.146368Z",
     "start_time": "2025-02-23T14:32:21.125009Z"
    }
   },
   "cell_type": "code",
   "source": [
    "# Convert to Polars DataFrame\n",
    "bhx_places_pl = pl.from_arrow(converted_table)"
   ],
   "id": "371e3f798a2a89",
   "outputs": [],
   "execution_count": 104
  },
  {
   "metadata": {
    "ExecuteTime": {
     "end_time": "2025-02-23T11:43:56.953188Z",
     "start_time": "2025-02-23T11:43:56.762667Z"
    }
   },
   "cell_type": "code",
   "source": [
    "# Convert to Polars DataFrame directly from tables you have this error.\n",
    "bhx_places_pl = pl.from_arrow(table)"
   ],
   "id": "5fabbe3519e53285",
   "outputs": [
    {
     "ename": "PanicException",
     "evalue": "Arrow datatype Map(Field { name: \"common\", dtype: Struct([Field { name: \"key\", dtype: Utf8, is_nullable: false, metadata: None }, Field { name: \"value\", dtype: Utf8, is_nullable: true, metadata: None }]), is_nullable: false, metadata: None }, false) not supported by Polars. You probably need to activate that data-type feature.",
     "output_type": "error",
     "traceback": [
      "\u001B[1;31m---------------------------------------------------------------------------\u001B[0m",
      "\u001B[1;31mPanicException\u001B[0m                            Traceback (most recent call last)",
      "Cell \u001B[1;32mIn[58], line 2\u001B[0m\n\u001B[0;32m      1\u001B[0m \u001B[38;5;66;03m# Convert to Polars DataFrame\u001B[39;00m\n\u001B[1;32m----> 2\u001B[0m bhx_places_pl \u001B[38;5;241m=\u001B[39m \u001B[43mpl\u001B[49m\u001B[38;5;241;43m.\u001B[39;49m\u001B[43mfrom_arrow\u001B[49m\u001B[43m(\u001B[49m\u001B[43mtable\u001B[49m\u001B[43m)\u001B[49m\n",
      "File \u001B[1;32m~\\root\\Projects\\dev\\unpatternedAi\\healthdata-hub\\.venv\\Lib\\site-packages\\polars\\convert\\general.py:455\u001B[0m, in \u001B[0;36mfrom_arrow\u001B[1;34m(data, schema, schema_overrides, rechunk)\u001B[0m\n\u001B[0;32m    446\u001B[0m     \u001B[38;5;28;01mreturn\u001B[39;00m pycapsule_to_frame(\n\u001B[0;32m    447\u001B[0m         data,\n\u001B[0;32m    448\u001B[0m         schema\u001B[38;5;241m=\u001B[39mschema,\n\u001B[0;32m    449\u001B[0m         schema_overrides\u001B[38;5;241m=\u001B[39mschema_overrides,\n\u001B[0;32m    450\u001B[0m         rechunk\u001B[38;5;241m=\u001B[39mrechunk,\n\u001B[0;32m    451\u001B[0m     )\n\u001B[0;32m    453\u001B[0m \u001B[38;5;28;01melif\u001B[39;00m \u001B[38;5;28misinstance\u001B[39m(data, (pa\u001B[38;5;241m.\u001B[39mTable, pa\u001B[38;5;241m.\u001B[39mRecordBatch)):\n\u001B[0;32m    454\u001B[0m     \u001B[38;5;28;01mreturn\u001B[39;00m wrap_df(\n\u001B[1;32m--> 455\u001B[0m         \u001B[43marrow_to_pydf\u001B[49m\u001B[43m(\u001B[49m\n\u001B[0;32m    456\u001B[0m \u001B[43m            \u001B[49m\u001B[43mdata\u001B[49m\u001B[38;5;241;43m=\u001B[39;49m\u001B[43mdata\u001B[49m\u001B[43m,\u001B[49m\n\u001B[0;32m    457\u001B[0m \u001B[43m            \u001B[49m\u001B[43mrechunk\u001B[49m\u001B[38;5;241;43m=\u001B[39;49m\u001B[43mrechunk\u001B[49m\u001B[43m,\u001B[49m\n\u001B[0;32m    458\u001B[0m \u001B[43m            \u001B[49m\u001B[43mschema\u001B[49m\u001B[38;5;241;43m=\u001B[39;49m\u001B[43mschema\u001B[49m\u001B[43m,\u001B[49m\n\u001B[0;32m    459\u001B[0m \u001B[43m            \u001B[49m\u001B[43mschema_overrides\u001B[49m\u001B[38;5;241;43m=\u001B[39;49m\u001B[43mschema_overrides\u001B[49m\u001B[43m,\u001B[49m\n\u001B[0;32m    460\u001B[0m \u001B[43m        \u001B[49m\u001B[43m)\u001B[49m\n\u001B[0;32m    461\u001B[0m     )\n\u001B[0;32m    462\u001B[0m \u001B[38;5;28;01melif\u001B[39;00m \u001B[38;5;28misinstance\u001B[39m(data, (pa\u001B[38;5;241m.\u001B[39mArray, pa\u001B[38;5;241m.\u001B[39mChunkedArray)):\n\u001B[0;32m    463\u001B[0m     name \u001B[38;5;241m=\u001B[39m \u001B[38;5;28mgetattr\u001B[39m(data, \u001B[38;5;124m\"\u001B[39m\u001B[38;5;124m_name\u001B[39m\u001B[38;5;124m\"\u001B[39m, \u001B[38;5;124m\"\u001B[39m\u001B[38;5;124m\"\u001B[39m) \u001B[38;5;129;01mor\u001B[39;00m \u001B[38;5;124m\"\u001B[39m\u001B[38;5;124m\"\u001B[39m\n",
      "File \u001B[1;32m~\\root\\Projects\\dev\\unpatternedAi\\healthdata-hub\\.venv\\Lib\\site-packages\\polars\\_utils\\construction\\dataframe.py:1168\u001B[0m, in \u001B[0;36marrow_to_pydf\u001B[1;34m(data, schema, schema_overrides, strict, rechunk)\u001B[0m\n\u001B[0;32m   1165\u001B[0m     batches \u001B[38;5;241m=\u001B[39m data\u001B[38;5;241m.\u001B[39mto_batches()\n\u001B[0;32m   1167\u001B[0m \u001B[38;5;66;03m# supply the arrow schema so the metadata is intact\u001B[39;00m\n\u001B[1;32m-> 1168\u001B[0m pydf \u001B[38;5;241m=\u001B[39m \u001B[43mPyDataFrame\u001B[49m\u001B[38;5;241;43m.\u001B[39;49m\u001B[43mfrom_arrow_record_batches\u001B[49m\u001B[43m(\u001B[49m\u001B[43mbatches\u001B[49m\u001B[43m,\u001B[49m\u001B[43m \u001B[49m\u001B[43mdata\u001B[49m\u001B[38;5;241;43m.\u001B[39;49m\u001B[43mschema\u001B[49m\u001B[43m)\u001B[49m\n\u001B[0;32m   1170\u001B[0m \u001B[38;5;66;03m# arrow tables allow duplicate names; we don't\u001B[39;00m\n\u001B[0;32m   1171\u001B[0m \u001B[38;5;28;01mif\u001B[39;00m \u001B[38;5;28mlen\u001B[39m(data\u001B[38;5;241m.\u001B[39mcolumns) \u001B[38;5;241m!=\u001B[39m pydf\u001B[38;5;241m.\u001B[39mwidth():\n",
      "\u001B[1;31mPanicException\u001B[0m: Arrow datatype Map(Field { name: \"common\", dtype: Struct([Field { name: \"key\", dtype: Utf8, is_nullable: false, metadata: None }, Field { name: \"value\", dtype: Utf8, is_nullable: true, metadata: None }]), is_nullable: false, metadata: None }, false) not supported by Polars. You probably need to activate that data-type feature."
     ]
    }
   ],
   "execution_count": 58
  },
  {
   "metadata": {
    "ExecuteTime": {
     "end_time": "2025-02-23T12:23:45.009322Z",
     "start_time": "2025-02-23T12:23:44.989742Z"
    }
   },
   "cell_type": "code",
   "source": "print(bhx_places_pl.schema)",
   "id": "79799c1ee596d36",
   "outputs": [
    {
     "name": "stdout",
     "output_type": "stream",
     "text": [
      "Schema({'id': String, 'geometry': Binary, 'bbox': Struct({'xmin': Float32, 'xmax': Float32, 'ymin': Float32, 'ymax': Float32}), 'version': Int32, 'sources': List(Struct({'property': String, 'dataset': String, 'record_id': String, 'update_time': String, 'confidence': Float64})), 'names': Struct({'primary': String, 'common': List(Struct({'key': String, 'value': String})), 'rules': List(Struct({'variant': String, 'language': String, 'value': String, 'between': List(Float64), 'side': String}))}), 'categories': Struct({'primary': String, 'alternate': List(String)}), 'confidence': Float64, 'websites': List(String), 'socials': List(String), 'emails': List(String), 'phones': List(String), 'brand': Struct({'wikidata': String, 'names': Struct({'primary': String, 'common': List(Struct({'key': String, 'value': String})), 'rules': List(Struct({'variant': String, 'language': String, 'value': String, 'between': List(Float64), 'side': String}))})}), 'addresses': List(Struct({'freeform': String, 'locality': String, 'postcode': String, 'region': String, 'country': String}))})\n"
     ]
    }
   ],
   "execution_count": 88
  },
  {
   "metadata": {
    "ExecuteTime": {
     "end_time": "2025-02-23T12:08:49.003314Z",
     "start_time": "2025-02-23T12:08:48.949390Z"
    }
   },
   "cell_type": "code",
   "source": "bhx_places_pl.head()",
   "id": "55725b849108cf57",
   "outputs": [
    {
     "data": {
      "text/plain": [
       "shape: (5, 14)\n",
       "┌────────────┬───────────┬───────────┬─────────┬───┬───────────┬───────────┬───────────┬───────────┐\n",
       "│ id         ┆ geometry  ┆ bbox      ┆ version ┆ … ┆ emails    ┆ phones    ┆ brand     ┆ addresses │\n",
       "│ ---        ┆ ---       ┆ ---       ┆ ---     ┆   ┆ ---       ┆ ---       ┆ ---       ┆ ---       │\n",
       "│ str        ┆ binary    ┆ struct[4] ┆ i32     ┆   ┆ list[str] ┆ list[str] ┆ struct[2] ┆ list[stru │\n",
       "│            ┆           ┆           ┆         ┆   ┆           ┆           ┆           ┆ ct[5]]    │\n",
       "╞════════════╪═══════════╪═══════════╪═════════╪═══╪═══════════╪═══════════╪═══════════╪═══════════╡\n",
       "│ 08f195c763 ┆ b\"\\x00\\x0 ┆ {-2.10982 ┆ 0       ┆ … ┆ null      ┆ [\"+441562 ┆ null      ┆ [{\"Adam's │\n",
       "│ 8149610316 ┆ 0\\x00\\x00 ┆ 4,-2.1098 ┆         ┆   ┆           ┆ 883260\"]  ┆           ┆ Hill\",nul │\n",
       "│ 504a155408 ┆ \\x01\\xc0\\ ┆ 24,52.416 ┆         ┆   ┆           ┆           ┆           ┆ l,\"DY9    │\n",
       "│ …          ┆ x00…      ┆ 313…      ┆         ┆   ┆           ┆           ┆           ┆ 9PS\"…     │\n",
       "│ 08f195c763 ┆ b\"\\x00\\x0 ┆ {-2.10986 ┆ 0       ┆ … ┆ null      ┆ [\"0156288 ┆ null      ┆ [{\"Adam's │\n",
       "│ 81496103ec ┆ 0\\x00\\x00 ┆ 9,-2.1098 ┆         ┆   ┆           ┆ 3260\"]    ┆           ┆ Hill, Cle │\n",
       "│ 859b3f38fa ┆ \\x01\\xc0\\ ┆ 69,52.416 ┆         ┆   ┆           ┆           ┆           ┆ nt\",\"Stou │\n",
       "│ …          ┆ x00…      ┆ 344…      ┆         ┆   ┆           ┆           ┆           ┆ rb…       │\n",
       "│ 08f195c760 ┆ b\"\\x00\\x0 ┆ {-2.10946 ┆ 0       ┆ … ┆ null      ┆ [\"+441562 ┆ null      ┆ [{\"Wassel │\n",
       "│ c5bc2a03b7 ┆ 0\\x00\\x00 ┆ 8,-2.1094 ┆         ┆   ┆           ┆ 883036\"]  ┆           ┆ l Gr La\", │\n",
       "│ a56aa062f0 ┆ \\x01\\xc0\\ ┆ 68,52.433 ┆         ┆   ┆           ┆           ┆           ┆ null,\"DY9 │\n",
       "│ …          ┆ x00…      ┆ 826…      ┆         ┆   ┆           ┆           ┆           ┆ 9J…       │\n",
       "│ 08f195c764 ┆ b\"\\x00\\x0 ┆ {-2.10961 ┆ 0       ┆ … ┆ null      ┆ [\"+447815 ┆ null      ┆ [{\"2      │\n",
       "│ 58032b0351 ┆ 0\\x00\\x00 ┆ ,-2.10961 ┆         ┆   ┆           ┆ 187181\"]  ┆           ┆ Perrins   │\n",
       "│ bc9d8081f5 ┆ \\x01\\xc0\\ ┆ ,52.45252 ┆         ┆   ┆           ┆           ┆           ┆ Lane\",\"St │\n",
       "│ …          ┆ x00…      ┆ 6,5…      ┆         ┆   ┆           ┆           ┆           ┆ ourbridg… │\n",
       "│ 08f195c0d9 ┆ b\"\\x00\\x0 ┆ {-2.10951 ┆ 0       ┆ … ┆ null      ┆ [\"+447935 ┆ null      ┆ [{\"7 Star │\n",
       "│ 25427203b8 ┆ 0\\x00\\x00 ┆ 1,-2.1095 ┆         ┆   ┆           ┆ 312913\"]  ┆           ┆ St\",null, │\n",
       "│ 204a41c614 ┆ \\x01\\xc0\\ ┆ 11,52.455 ┆         ┆   ┆           ┆           ┆           ┆ \"DY9      │\n",
       "│ …          ┆ x00…      ┆ 761…      ┆         ┆   ┆           ┆           ┆           ┆ 8TU\",n…   │\n",
       "└────────────┴───────────┴───────────┴─────────┴───┴───────────┴───────────┴───────────┴───────────┘"
      ],
      "text/html": [
       "<div><style>\n",
       ".dataframe > thead > tr,\n",
       ".dataframe > tbody > tr {\n",
       "  text-align: right;\n",
       "  white-space: pre-wrap;\n",
       "}\n",
       "</style>\n",
       "<small>shape: (5, 14)</small><table border=\"1\" class=\"dataframe\"><thead><tr><th>id</th><th>geometry</th><th>bbox</th><th>version</th><th>sources</th><th>names</th><th>categories</th><th>confidence</th><th>websites</th><th>socials</th><th>emails</th><th>phones</th><th>brand</th><th>addresses</th></tr><tr><td>str</td><td>binary</td><td>struct[4]</td><td>i32</td><td>list[struct[5]]</td><td>struct[3]</td><td>struct[2]</td><td>f64</td><td>list[str]</td><td>list[str]</td><td>list[str]</td><td>list[str]</td><td>struct[2]</td><td>list[struct[5]]</td></tr></thead><tbody><tr><td>&quot;08f195c7638149610316504a155408…</td><td>b&quot;\\x00\\x00\\x00\\x00\\x01\\xc0\\x00\\xe0\\xeb\\x90\\x06r\\xe1@J5I\\xfa\\x1f\\x15o&quot;</td><td>{-2.109824,-2.109824,52.416313,52.416321}</td><td>0</td><td>[{&quot;&quot;,&quot;meta&quot;,&quot;511570855528771&quot;,&quot;2025-01-06T08:00:00.000Z&quot;,0.983745}]</td><td>{&quot;The Four Stones Coffee and Brunch&quot;,null,null}</td><td>{&quot;restaurant&quot;,[&quot;italian_restaurant&quot;, &quot;british_restaurant&quot;]}</td><td>0.983745</td><td>[&quot;http://www.thefourstones.co.uk/&quot;]</td><td>[&quot;https://www.facebook.com/511570855528771&quot;]</td><td>null</td><td>[&quot;+441562883260&quot;]</td><td>null</td><td>[{&quot;Adam&#x27;s Hill&quot;,null,&quot;DY9 9PS&quot;,null,&quot;GB&quot;}]</td></tr><tr><td>&quot;08f195c76381496103ec859b3f38fa…</td><td>b&quot;\\x00\\x00\\x00\\x00\\x01\\xc0\\x00\\xe1\\x02\\xff\\x8e\\xc0\\xf9@J5J\\xfdTT\\x15&quot;</td><td>{-2.109869,-2.109869,52.416344,52.416351}</td><td>0</td><td>[{&quot;&quot;,&quot;Microsoft&quot;,&quot;1125899910316703&quot;,&quot;2022-05-28T05:59:12.167Z&quot;,0.77}]</td><td>{&quot;The Four Stones Restaurant&quot;,null,null}</td><td>{&quot;breakfast_and_brunch_restaurant&quot;,[&quot;british_restaurant&quot;, &quot;cafe&quot;, … &quot;restaurant&quot;]}</td><td>0.77</td><td>[&quot;http://www.thefourstones.co.uk/&quot;]</td><td>null</td><td>null</td><td>[&quot;01562883260&quot;]</td><td>null</td><td>[{&quot;Adam&#x27;s Hill, Clent&quot;,&quot;Stourbridge&quot;,&quot;DY9 9PS&quot;,&quot;&quot;,&quot;GB&quot;}]</td></tr><tr><td>&quot;08f195c760c5bc2a03b7a56aa062f0…</td><td>b&quot;\\x00\\x00\\x00\\x00\\x01\\xc0\\x00\\xe00\\xdd\\x17\\x9d\\xab@J7\\x87\\xa1I\\x91D&quot;</td><td>{-2.109468,-2.109468,52.433826,52.433834}</td><td>0</td><td>[{&quot;&quot;,&quot;meta&quot;,&quot;167039030569271&quot;,&quot;2025-01-06T08:00:00.000Z&quot;,0.983745}]</td><td>{&quot;Old Halesonians Association&quot;,null,null}</td><td>{&quot;sports_club_and_league&quot;,[&quot;active_life&quot;]}</td><td>0.983745</td><td>[&quot;http://www.oldhalesrfc.co.uk/&quot;]</td><td>[&quot;https://www.facebook.com/167039030569271&quot;]</td><td>null</td><td>[&quot;+441562883036&quot;]</td><td>null</td><td>[{&quot;Wassell Gr La&quot;,null,&quot;DY9 9JP&quot;,null,&quot;GB&quot;}]</td></tr><tr><td>&quot;08f195c76458032b0351bc9d8081f5…</td><td>b&quot;\\x00\\x00\\x00\\x00\\x01\\xc0\\x00\\xe0{\\x1aR\\x91\\x9d@J9\\xecg\\x9c\\xc7L&quot;</td><td>{-2.10961,-2.10961,52.452526,52.452534}</td><td>0</td><td>[{&quot;&quot;,&quot;meta&quot;,&quot;145611086053605&quot;,&quot;2025-01-06T08:00:00.000Z&quot;,0.897317}]</td><td>{&quot;Solarfit Blinds&quot;,null,null}</td><td>{&quot;windows_installation&quot;,[&quot;linen&quot;, &quot;home_improvement_store&quot;]}</td><td>0.897317</td><td>[&quot;http://www.solarfitblinds.com/&quot;]</td><td>[&quot;https://www.facebook.com/145611086053605&quot;]</td><td>null</td><td>[&quot;+447815187181&quot;]</td><td>null</td><td>[{&quot;2 Perrins Lane&quot;,&quot;Stourbridge&quot;,&quot;DY9 8XR&quot;,&quot;ENG&quot;,&quot;GB&quot;}]</td></tr><tr><td>&quot;08f195c0d925427203b8204a41c614…</td><td>b&quot;\\x00\\x00\\x00\\x00\\x01\\xc0\\x00\\xe0G@0q\\xb8@J:V\\x92\\xb3\\xccK&quot;</td><td>{-2.109511,-2.109511,52.455761,52.455769}</td><td>0</td><td>[{&quot;&quot;,&quot;meta&quot;,&quot;101832158518065&quot;,&quot;2025-01-06T08:00:00.000Z&quot;,0.868235}]</td><td>{&quot;Waste in Time Lye&quot;,null,null}</td><td>{&quot;garbage_collection_service&quot;,[&quot;real_estate_service&quot;, &quot;professional_services&quot;]}</td><td>0.868235</td><td>[&quot;http://waste-in-time.co.uk/&quot;]</td><td>[&quot;https://www.facebook.com/101832158518065&quot;]</td><td>null</td><td>[&quot;+447935312913&quot;]</td><td>null</td><td>[{&quot;7 Star St&quot;,null,&quot;DY9 8TU&quot;,null,&quot;GB&quot;}]</td></tr></tbody></table></div>"
      ]
     },
     "execution_count": 86,
     "metadata": {},
     "output_type": "execute_result"
    }
   ],
   "execution_count": 86
  },
  {
   "metadata": {
    "ExecuteTime": {
     "end_time": "2025-02-23T12:51:44.650153Z",
     "start_time": "2025-02-23T12:51:44.313598Z"
    }
   },
   "cell_type": "code",
   "source": [
    "# Define health-related categories\n",
    "health_categories = [\n",
    "    \"hospital\", \"doctor\", \"hospice\", \"health_and_medical\", \"surgeon\",\n",
    "    \"personal_care_service\", \"psychiatrist\", \"rehabilitation_center\",\n",
    "    \"walk_in_clinic\", \"medical_center\", \"wellness_program\", \"surgical_center\",\n",
    "    \"public_health_clinic\", \"physical_therapy\", \"occupational_medicine\",\n",
    "    \"occupational_therapy\"\n",
    "]\n",
    "\n",
    "# Process and clean the dataset\n",
    "uk_health_data = (\n",
    "    bhx_places_pl\n",
    "    # Extract fields from first element of list-of-structs (addresses)\n",
    "    .with_columns(\n",
    "        pl.col(\"addresses\").list.first().struct.field(\"freeform\").alias(\"street\"),\n",
    "        pl.col(\"addresses\").list.first().struct.field(\"locality\").alias(\"locality\"),\n",
    "        pl.col(\"addresses\").list.first().struct.field(\"postcode\").alias(\"postcode\"),\n",
    "        pl.col(\"addresses\").list.first().struct.field(\"region\").alias(\"region\"),\n",
    "        pl.col(\"addresses\").list.first().struct.field(\"country\").alias(\"country\"),\n",
    "        pl.col(\"categories\").struct.field(\"primary\").alias(\"category\"),\n",
    "        pl.col(\"names\").struct.field(\"primary\").alias(\"name\"),\n",
    "        pl.col(\"sources\").list.eval(pl.element().struct.field(\"dataset\")).alias(\"dataset_source\"),\n",
    "        pl.col(\"sources\").list.eval(pl.element().struct.field(\"update_time\")).alias(\"update_time\"),\n",
    "    )\n",
    "\n",
    "    # Filter for UK locations\n",
    "    .filter(pl.col(\"country\") == \"GB\")\n",
    "\n",
    "    # Filter for relevant health categories\n",
    "    .filter(pl.col(\"category\").is_in(health_categories))\n",
    "\n",
    "    # Filter for confidence > 0.5\n",
    "    .filter(pl.col(\"confidence\") > 0.5)\n",
    "\n",
    "    # Flatten list columns properly\n",
    "    .explode(\"socials\")\n",
    "    .explode(\"websites\")\n",
    "    .explode(\"phones\")\n",
    "    .explode(\"emails\")\n",
    "\n",
    "    # Rename and select final columns\n",
    "    .rename({\"id\": \"uuid\", \"phones\": \"phone_number\"})\n",
    "    .select([\n",
    "        \"uuid\", \"name\", \"category\", \"websites\", \"socials\", \"emails\",\n",
    "        \"phone_number\", \"street\", \"locality\", \"postcode\", \"region\",\n",
    "        \"country\", \"dataset_source\", \"update_time\", \"geometry\"\n",
    "    ])\n",
    ")\n",
    "\n",
    "\n",
    "print(\"✅ Processed UK health data successfully!\")\n"
   ],
   "id": "acea35de244c6de",
   "outputs": [
    {
     "name": "stdout",
     "output_type": "stream",
     "text": [
      "✅ Processed UK health data successfully!\n"
     ]
    }
   ],
   "execution_count": 93
  },
  {
   "metadata": {
    "ExecuteTime": {
     "end_time": "2025-02-23T12:51:52.655378Z",
     "start_time": "2025-02-23T12:51:52.631803Z"
    }
   },
   "cell_type": "code",
   "source": "uk_health_data.head()",
   "id": "4667835b0fbeb847",
   "outputs": [
    {
     "data": {
      "text/plain": [
       "shape: (5, 15)\n",
       "┌────────────┬───────────┬───────────┬───────────┬───┬─────────┬───────────┬───────────┬───────────┐\n",
       "│ uuid       ┆ name      ┆ category  ┆ websites  ┆ … ┆ country ┆ dataset_s ┆ update_ti ┆ geometry  │\n",
       "│ ---        ┆ ---       ┆ ---       ┆ ---       ┆   ┆ ---     ┆ ource     ┆ me        ┆ ---       │\n",
       "│ str        ┆ str       ┆ str       ┆ str       ┆   ┆ str     ┆ ---       ┆ ---       ┆ binary    │\n",
       "│            ┆           ┆           ┆           ┆   ┆         ┆ list[str] ┆ list[str] ┆           │\n",
       "╞════════════╪═══════════╪═══════════╪═══════════╪═══╪═════════╪═══════════╪═══════════╪═══════════╡\n",
       "│ 08f195c0d9 ┆ Ruselhall ┆ hospital  ┆ null      ┆ … ┆ GB      ┆ [\"meta\"]  ┆ [\"2025-01 ┆ b\"\\x00\\x0 │\n",
       "│ 254c2e0353 ┆ Hospital  ┆           ┆           ┆   ┆         ┆           ┆ -06T08:00 ┆ 0\\x00\\x00 │\n",
       "│ 8ef7e1f18c ┆           ┆           ┆           ┆   ┆         ┆           ┆ :00.000Z\" ┆ \\x01\\xc0\\ │\n",
       "│ …          ┆           ┆           ┆           ┆   ┆         ┆           ┆ ]         ┆ x00…      │\n",
       "│ 08f195c0dd ┆ Brook     ┆ doctor    ┆ https://w ┆ … ┆ GB      ┆ [\"Microso ┆ [\"2024-11 ┆ b\"\\x00\\x0 │\n",
       "│ 75b4b503e5 ┆ Dudley at ┆           ┆ ww.brook. ┆   ┆         ┆ ft\"]      ┆ -26T23:58 ┆ 0\\x00\\x00 │\n",
       "│ 49ca694105 ┆ Cranstoun ┆           ┆ org.uk/se ┆   ┆         ┆           ┆ :36.140Z\" ┆ \\x01\\xc0\\ │\n",
       "│ …          ┆ ROUT…     ┆           ┆ rvi…      ┆   ┆         ┆           ┆ ]         ┆ x00…      │\n",
       "│ 08f195c0dc ┆ Keelinge  ┆ hospital  ┆ http://ww ┆ … ┆ GB      ┆ [\"meta\"]  ┆ [\"2025-01 ┆ b\"\\x00\\x0 │\n",
       "│ b46c5c03d0 ┆ House     ┆           ┆ w.keeling ┆   ┆         ┆           ┆ -06T08:00 ┆ 0\\x00\\x00 │\n",
       "│ 096b59103e ┆ Surgery   ┆           ┆ ehousesur ┆   ┆         ┆           ┆ :00.000Z\" ┆ \\x01\\xc0\\ │\n",
       "│ …          ┆           ┆           ┆ ger…      ┆   ┆         ┆           ┆ ]         ┆ x00…      │\n",
       "│ 08f195c769 ┆ Mercian   ┆ hospital  ┆ https://w ┆ … ┆ GB      ┆ [\"meta\",  ┆ [\"2025-01 ┆ b\"\\x00\\x0 │\n",
       "│ 15a66c0374 ┆ Surgical  ┆           ┆ ww.mercia ┆   ┆         ┆ \"Microsof ┆ -06T08:00 ┆ 0\\x00\\x00 │\n",
       "│ fe3e4afc3d ┆ Supply Co ┆           ┆ nsurgical ┆   ┆         ┆ t\"]       ┆ :00.000Z\" ┆ \\x01\\xc0\\ │\n",
       "│ …          ┆           ┆           ┆ .co…      ┆   ┆         ┆           ┆ , \"…      ┆ x00…      │\n",
       "│ 08f195c769 ┆ Property  ┆ personal_ ┆           ┆ … ┆ GB      ┆ [\"Microso ┆ [\"2017-01 ┆ b\"\\x00\\x0 │\n",
       "│ 1423150373 ┆ Services  ┆ care_serv ┆           ┆   ┆         ┆ ft\"]      ┆ -21T04:05 ┆ 0\\x00\\x00 │\n",
       "│ e0e4f53c6e ┆ Central   ┆ ice       ┆           ┆   ┆         ┆           ┆ :59.453Z\" ┆ \\x01\\xc0\\ │\n",
       "│ …          ┆ Ltd.      ┆           ┆           ┆   ┆         ┆           ┆ ]         ┆ x00…      │\n",
       "└────────────┴───────────┴───────────┴───────────┴───┴─────────┴───────────┴───────────┴───────────┘"
      ],
      "text/html": [
       "<div><style>\n",
       ".dataframe > thead > tr,\n",
       ".dataframe > tbody > tr {\n",
       "  text-align: right;\n",
       "  white-space: pre-wrap;\n",
       "}\n",
       "</style>\n",
       "<small>shape: (5, 15)</small><table border=\"1\" class=\"dataframe\"><thead><tr><th>uuid</th><th>name</th><th>category</th><th>websites</th><th>socials</th><th>emails</th><th>phone_number</th><th>street</th><th>locality</th><th>postcode</th><th>region</th><th>country</th><th>dataset_source</th><th>update_time</th><th>geometry</th></tr><tr><td>str</td><td>str</td><td>str</td><td>str</td><td>str</td><td>str</td><td>str</td><td>str</td><td>str</td><td>str</td><td>str</td><td>str</td><td>list[str]</td><td>list[str]</td><td>binary</td></tr></thead><tbody><tr><td>&quot;08f195c0d9254c2e03538ef7e1f18c…</td><td>&quot;Ruselhall Hospital&quot;</td><td>&quot;hospital&quot;</td><td>null</td><td>&quot;https://www.facebook.com/58611…</td><td>null</td><td>null</td><td>null</td><td>&quot;Stourbridge&quot;</td><td>null</td><td>null</td><td>&quot;GB&quot;</td><td>[&quot;meta&quot;]</td><td>[&quot;2025-01-06T08:00:00.000Z&quot;]</td><td>b&quot;\\x00\\x00\\x00\\x00\\x01\\xc0\\x00\\xe0\\xdd\\xb8\\xad[\\x17@J:e\\x12\\xa9O\\xf0&quot;</td></tr><tr><td>&quot;08f195c0dd75b4b503e549ca694105…</td><td>&quot;Brook Dudley at Cranstoun ROUT…</td><td>&quot;doctor&quot;</td><td>&quot;https://www.brook.org.uk/servi…</td><td>null</td><td>null</td><td>&quot;01384881830&quot;</td><td>&quot;The Blvd, Brierley Hill&quot;</td><td>&quot;Merry Hill Shopping Centre&quot;</td><td>&quot;DY5 1QX&quot;</td><td>&quot;&quot;</td><td>&quot;GB&quot;</td><td>[&quot;Microsoft&quot;]</td><td>[&quot;2024-11-26T23:58:36.140Z&quot;]</td><td>b&quot;\\x00\\x00\\x00\\x00\\x01\\xc0\\x00\\xe0\\x7f(\\x09l;@J=3\\x15=\\xe3T&quot;</td></tr><tr><td>&quot;08f195c0dcb46c5c03d0096b59103e…</td><td>&quot;Keelinge House Surgery&quot;</td><td>&quot;hospital&quot;</td><td>&quot;http://www.keelingehousesurger…</td><td>&quot;https://www.facebook.com/74781…</td><td>null</td><td>&quot;+44138477194&quot;</td><td>&quot;174 Stourbridge Road&quot;</td><td>&quot;Dudley&quot;</td><td>&quot;DY1 2ER&quot;</td><td>&quot;ENG&quot;</td><td>&quot;GB&quot;</td><td>[&quot;meta&quot;]</td><td>[&quot;2025-01-06T08:00:00.000Z&quot;]</td><td>b&quot;\\x00\\x00\\x00\\x00\\x01\\xc0\\x00\\xe0\\x80sW\\xe6q@J@\\x18\\xe7W\\x92\\x8e&quot;</td></tr><tr><td>&quot;08f195c76915a66c0374fe3e4afc3d…</td><td>&quot;Mercian Surgical Supply Co&quot;</td><td>&quot;hospital&quot;</td><td>&quot;https://www.merciansurgical.co…</td><td>&quot;https://www.facebook.com/11922…</td><td>null</td><td>&quot;+448448791133&quot;</td><td>&quot;10, Topaz Business Park, Topaz…</td><td>null</td><td>&quot;B61 0GD&quot;</td><td>null</td><td>&quot;GB&quot;</td><td>[&quot;meta&quot;, &quot;Microsoft&quot;]</td><td>[&quot;2025-01-06T08:00:00.000Z&quot;, &quot;2019-04-15T22:22:57.440Z&quot;]</td><td>b&quot;\\x00\\x00\\x00\\x00\\x01\\xc0\\x00a2!\\xbb;\\xab@J-\\xb6\\xfa\\xd3pU&quot;</td></tr><tr><td>&quot;08f195c7691423150373e0e4f53c6e…</td><td>&quot;Property Services Central Ltd.&quot;</td><td>&quot;personal_care_service&quot;</td><td>&quot;&quot;</td><td>null</td><td>null</td><td>&quot;01527831335&quot;</td><td>&quot;350 Birmingham Road&quot;</td><td>&quot;Bromsgrove&quot;</td><td>&quot;B61 0HJ&quot;</td><td>&quot;&quot;</td><td>&quot;GB&quot;</td><td>[&quot;Microsoft&quot;]</td><td>[&quot;2017-01-21T04:05:59.453Z&quot;]</td><td>b&quot;\\x00\\x00\\x00\\x00\\x01\\xc0\\x00_\\x17D\\xc0#q@J-\\xd1\\xfc\\xb7v#&quot;</td></tr></tbody></table></div>"
      ]
     },
     "execution_count": 94,
     "metadata": {},
     "output_type": "execute_result"
    }
   ],
   "execution_count": 94
  }
 ],
 "metadata": {
  "kernelspec": {
   "display_name": "Python 3",
   "language": "python",
   "name": "python3"
  },
  "language_info": {
   "codemirror_mode": {
    "name": "ipython",
    "version": 2
   },
   "file_extension": ".py",
   "mimetype": "text/x-python",
   "name": "python",
   "nbconvert_exporter": "python",
   "pygments_lexer": "ipython2",
   "version": "2.7.6"
  }
 },
 "nbformat": 4,
 "nbformat_minor": 5
}
