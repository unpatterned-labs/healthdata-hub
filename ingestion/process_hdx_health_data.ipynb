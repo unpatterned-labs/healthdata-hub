{
 "cells": [
  {
   "cell_type": "code",
   "id": "initial_id",
   "metadata": {
    "collapsed": true,
    "ExecuteTime": {
     "end_time": "2025-02-16T07:24:35.191512Z",
     "start_time": "2025-02-16T07:24:35.114003Z"
    }
   },
   "source": [
    "import geopandas as gpd\n",
    "import pandas as pd\n",
    "import pyarrow.parquet as pq"
   ],
   "outputs": [],
   "execution_count": 2
  },
  {
   "metadata": {},
   "cell_type": "code",
   "outputs": [],
   "execution_count": null,
   "source": "",
   "id": "635a88ce664e5680"
  },
  {
   "metadata": {
    "ExecuteTime": {
     "end_time": "2025-02-16T07:35:07.930117Z",
     "start_time": "2025-02-16T07:34:56.782368Z"
    }
   },
   "cell_type": "code",
   "source": [
    "# function to load shapefiles and add osm_type column\n",
    "def load_health_data(file_path, osm_type, encoding=\"utf-8\"):\n",
    "    \"\"\" Load Health facility shapefile and assign an OSM type.\"\"\"\n",
    "    try:\n",
    "        gdf = gpd.read_file(file_path, encoding=encoding)\n",
    "    except UnicodeDecodeError:\n",
    "        print(f\"⚠️ UTF-8 decoding failed for {file_path}. Trying ISO-8859-1...\")\n",
    "        gdf = gpd.read_file(file_path, encoding=\"ISO-8859-1\")\n",
    "        \n",
    "    gdf[\"osm_type\"] = osm_type\n",
    "    return gdf\n",
    "\n",
    "## Load USA Health Data\n",
    "\n",
    "us_health_node_raw = load_health_data(\"../data-raw/hdx/United States/United States-node.shp\", \"node\")\n",
    "us_health_way_raw = load_health_data(\"../data-raw/hdx/United States/United States-node.shp\", \"way\")\n",
    "\n",
    "# Combine both USA datasets hdx\n",
    "us_health_combined = pd.concat([us_health_node_raw, us_health_way_raw], ignore_index=True)"
   ],
   "id": "e67861a4ca92a29c",
   "outputs": [
    {
     "name": "stdout",
     "output_type": "stream",
     "text": [
      "⚠️ UTF-8 decoding failed for ../data-raw/hdx/United States/United States-node.shp. Trying ISO-8859-1...\n",
      "⚠️ UTF-8 decoding failed for ../data-raw/hdx/United States/United States-node.shp. Trying ISO-8859-1...\n"
     ]
    }
   ],
   "execution_count": 4
  },
  {
   "metadata": {
    "ExecuteTime": {
     "end_time": "2025-02-16T07:35:52.963705Z",
     "start_time": "2025-02-16T07:35:52.897802Z"
    }
   },
   "cell_type": "code",
   "source": "us_health_combined.head()",
   "id": "d36c679193081968",
   "outputs": [
    {
     "data": {
      "text/plain": [
       "       osm_id   amenity healthcare  \\\n",
       "0   354398914   doctors       None   \n",
       "1   354399084   doctors       None   \n",
       "2   354399343   doctors       None   \n",
       "3  1667420596  pharmacy   pharmacy   \n",
       "4   354400197   doctors     doctor   \n",
       "\n",
       "                                              name  \\\n",
       "0                  Van Horne Family Medical Clinic   \n",
       "1                  Hopkinton Family Medical Center   \n",
       "2                                  Covenant Clinic   \n",
       "3                                         Rite Aid   \n",
       "4  Genesis Health Group, Clinton Internal Medicine   \n",
       "\n",
       "                        operator source         speciality operator_t  \\\n",
       "0          Virginia Gay Hospital   None               None       None   \n",
       "1        Regional Medical Center   None               None       None   \n",
       "2  Wheaton Franciscan Healthcare   None               None       None   \n",
       "3                           None   None               None       None   \n",
       "4                           None   None  internal_medicine       None   \n",
       "\n",
       "        contact_nu operationa  ... addr_house                    addr_stree  \\\n",
       "0             None       None  ...        205                   Main Street   \n",
       "1             None       None  ...        122          1st Street Southwest   \n",
       "2             None       None  ...       1094                  220th Street   \n",
       "3             None       None  ...       2170  Frederick Douglass Boulevard   \n",
       "4  +1 563 242 7522       None  ...        221                   Main Avenue   \n",
       "\n",
       "  addr_postc   addr_city    changeset_    changeset_    changeset_  \\\n",
       "0      52346   Van Horne     watmildon     watmildon     watmildon   \n",
       "1      52310  Monticello    b-jazz-bot    b-jazz-bot    b-jazz-bot   \n",
       "2      50648       Jesup     watmildon     watmildon     watmildon   \n",
       "3      10026        None      CjMalone      CjMalone      CjMalone   \n",
       "4      52732     Clinton  thetornado76  thetornado76  thetornado76   \n",
       "\n",
       "     changeset_                    geometry osm_type  \n",
       "0     watmildon  POINT (-92.09074 42.00889)     node  \n",
       "1    b-jazz-bot   POINT (-91.24876 42.3437)     node  \n",
       "2     watmildon  POINT (-92.06211 42.46773)     node  \n",
       "3      CjMalone  POINT (-73.95453 40.80515)     node  \n",
       "4  thetornado76  POINT (-90.18055 41.87299)     node  \n",
       "\n",
       "[5 rows x 34 columns]"
      ],
      "text/html": [
       "<div>\n",
       "<style scoped>\n",
       "    .dataframe tbody tr th:only-of-type {\n",
       "        vertical-align: middle;\n",
       "    }\n",
       "\n",
       "    .dataframe tbody tr th {\n",
       "        vertical-align: top;\n",
       "    }\n",
       "\n",
       "    .dataframe thead th {\n",
       "        text-align: right;\n",
       "    }\n",
       "</style>\n",
       "<table border=\"1\" class=\"dataframe\">\n",
       "  <thead>\n",
       "    <tr style=\"text-align: right;\">\n",
       "      <th></th>\n",
       "      <th>osm_id</th>\n",
       "      <th>amenity</th>\n",
       "      <th>healthcare</th>\n",
       "      <th>name</th>\n",
       "      <th>operator</th>\n",
       "      <th>source</th>\n",
       "      <th>speciality</th>\n",
       "      <th>operator_t</th>\n",
       "      <th>contact_nu</th>\n",
       "      <th>operationa</th>\n",
       "      <th>...</th>\n",
       "      <th>addr_house</th>\n",
       "      <th>addr_stree</th>\n",
       "      <th>addr_postc</th>\n",
       "      <th>addr_city</th>\n",
       "      <th>changeset_</th>\n",
       "      <th>changeset_</th>\n",
       "      <th>changeset_</th>\n",
       "      <th>changeset_</th>\n",
       "      <th>geometry</th>\n",
       "      <th>osm_type</th>\n",
       "    </tr>\n",
       "  </thead>\n",
       "  <tbody>\n",
       "    <tr>\n",
       "      <th>0</th>\n",
       "      <td>354398914</td>\n",
       "      <td>doctors</td>\n",
       "      <td>None</td>\n",
       "      <td>Van Horne Family Medical Clinic</td>\n",
       "      <td>Virginia Gay Hospital</td>\n",
       "      <td>None</td>\n",
       "      <td>None</td>\n",
       "      <td>None</td>\n",
       "      <td>None</td>\n",
       "      <td>None</td>\n",
       "      <td>...</td>\n",
       "      <td>205</td>\n",
       "      <td>Main Street</td>\n",
       "      <td>52346</td>\n",
       "      <td>Van Horne</td>\n",
       "      <td>watmildon</td>\n",
       "      <td>watmildon</td>\n",
       "      <td>watmildon</td>\n",
       "      <td>watmildon</td>\n",
       "      <td>POINT (-92.09074 42.00889)</td>\n",
       "      <td>node</td>\n",
       "    </tr>\n",
       "    <tr>\n",
       "      <th>1</th>\n",
       "      <td>354399084</td>\n",
       "      <td>doctors</td>\n",
       "      <td>None</td>\n",
       "      <td>Hopkinton Family Medical Center</td>\n",
       "      <td>Regional Medical Center</td>\n",
       "      <td>None</td>\n",
       "      <td>None</td>\n",
       "      <td>None</td>\n",
       "      <td>None</td>\n",
       "      <td>None</td>\n",
       "      <td>...</td>\n",
       "      <td>122</td>\n",
       "      <td>1st Street Southwest</td>\n",
       "      <td>52310</td>\n",
       "      <td>Monticello</td>\n",
       "      <td>b-jazz-bot</td>\n",
       "      <td>b-jazz-bot</td>\n",
       "      <td>b-jazz-bot</td>\n",
       "      <td>b-jazz-bot</td>\n",
       "      <td>POINT (-91.24876 42.3437)</td>\n",
       "      <td>node</td>\n",
       "    </tr>\n",
       "    <tr>\n",
       "      <th>2</th>\n",
       "      <td>354399343</td>\n",
       "      <td>doctors</td>\n",
       "      <td>None</td>\n",
       "      <td>Covenant Clinic</td>\n",
       "      <td>Wheaton Franciscan Healthcare</td>\n",
       "      <td>None</td>\n",
       "      <td>None</td>\n",
       "      <td>None</td>\n",
       "      <td>None</td>\n",
       "      <td>None</td>\n",
       "      <td>...</td>\n",
       "      <td>1094</td>\n",
       "      <td>220th Street</td>\n",
       "      <td>50648</td>\n",
       "      <td>Jesup</td>\n",
       "      <td>watmildon</td>\n",
       "      <td>watmildon</td>\n",
       "      <td>watmildon</td>\n",
       "      <td>watmildon</td>\n",
       "      <td>POINT (-92.06211 42.46773)</td>\n",
       "      <td>node</td>\n",
       "    </tr>\n",
       "    <tr>\n",
       "      <th>3</th>\n",
       "      <td>1667420596</td>\n",
       "      <td>pharmacy</td>\n",
       "      <td>pharmacy</td>\n",
       "      <td>Rite Aid</td>\n",
       "      <td>None</td>\n",
       "      <td>None</td>\n",
       "      <td>None</td>\n",
       "      <td>None</td>\n",
       "      <td>None</td>\n",
       "      <td>None</td>\n",
       "      <td>...</td>\n",
       "      <td>2170</td>\n",
       "      <td>Frederick Douglass Boulevard</td>\n",
       "      <td>10026</td>\n",
       "      <td>None</td>\n",
       "      <td>CjMalone</td>\n",
       "      <td>CjMalone</td>\n",
       "      <td>CjMalone</td>\n",
       "      <td>CjMalone</td>\n",
       "      <td>POINT (-73.95453 40.80515)</td>\n",
       "      <td>node</td>\n",
       "    </tr>\n",
       "    <tr>\n",
       "      <th>4</th>\n",
       "      <td>354400197</td>\n",
       "      <td>doctors</td>\n",
       "      <td>doctor</td>\n",
       "      <td>Genesis Health Group, Clinton Internal Medicine</td>\n",
       "      <td>None</td>\n",
       "      <td>None</td>\n",
       "      <td>internal_medicine</td>\n",
       "      <td>None</td>\n",
       "      <td>+1 563 242 7522</td>\n",
       "      <td>None</td>\n",
       "      <td>...</td>\n",
       "      <td>221</td>\n",
       "      <td>Main Avenue</td>\n",
       "      <td>52732</td>\n",
       "      <td>Clinton</td>\n",
       "      <td>thetornado76</td>\n",
       "      <td>thetornado76</td>\n",
       "      <td>thetornado76</td>\n",
       "      <td>thetornado76</td>\n",
       "      <td>POINT (-90.18055 41.87299)</td>\n",
       "      <td>node</td>\n",
       "    </tr>\n",
       "  </tbody>\n",
       "</table>\n",
       "<p>5 rows × 34 columns</p>\n",
       "</div>"
      ]
     },
     "execution_count": 5,
     "metadata": {},
     "output_type": "execute_result"
    }
   ],
   "execution_count": 5
  },
  {
   "metadata": {
    "ExecuteTime": {
     "end_time": "2025-02-16T07:37:30.005187Z",
     "start_time": "2025-02-16T07:37:03.986715Z"
    }
   },
   "cell_type": "code",
   "source": [
    "# Rename columns\n",
    "us_health_data = us_health_combined.rename(columns={\n",
    "    \"operator_t\": \"operator_type\",\n",
    "    \"operationa\": \"operational\",\n",
    "    \"contact_nu\": \"contact_number\",\n",
    "    \"opening_ho\": \"opening_hours\",\n",
    "    \"beds\": \"num_beds\",\n",
    "    \"staff_doct\": \"staff_docter\",\n",
    "    \"staff_nurs\": \"staff_nursery\",\n",
    "    \"health_ame\": \"health_amenities\",\n",
    "    \"water_sour\": \"water_source\",\n",
    "    \"electricit\": \"electricity\",\n",
    "    \"addr_stree\": \"street\",\n",
    "    \"addr_postc\": \"postcode\",\n",
    "    \"addr_city\": \"city\",\n",
    "    \"addr_house\": \"house_number\"\n",
    "})\n",
    "\n",
    "# Drop unnecessary columns\n",
    "cols_to_drop = [\"operational\", \"water_source\", \"insurance\", \"staff_docter\", \"staff_nursery\", \n",
    "                \"health_amenities\", \"wheelchair\", \"emergency\", \"electricity\", \n",
    "                \"is_in_heal\", \"is_in_heal.1\", \"changeset_.1\", \"dispensing\", \n",
    "                \"url\", \"changeset_\", \"changeset_.2\", \"changeset_.3\", \"contact_number\"]\n",
    "\n",
    "us_health_data = us_health_data.drop(columns=cols_to_drop, errors=\"ignore\")\n",
    "\n",
    "# Create full address column\n",
    "us_health_data[\"iso3c\"] = \"USA\"\n",
    "us_health_data[\"downloaded_from\"] = \"https://data.humdata.org/organization/healthsites\"\n",
    "\n",
    "us_health_data[\"address\"] = us_health_data[[\"house_number\", \"street\", \"postcode\", \"city\", \"iso3c\"]].apply(\n",
    "    lambda x: \", \".join(x.dropna().astype(str)), axis=1\n",
    ")"
   ],
   "id": "e9507906a98a14fd",
   "outputs": [],
   "execution_count": 6
  },
  {
   "metadata": {
    "ExecuteTime": {
     "end_time": "2025-02-16T07:37:54.388113Z",
     "start_time": "2025-02-16T07:37:54.357600Z"
    }
   },
   "cell_type": "code",
   "source": "us_health_data.head()",
   "id": "37cc85188ff3b74c",
   "outputs": [
    {
     "data": {
      "text/plain": [
       "       osm_id   amenity healthcare  \\\n",
       "0   354398914   doctors       None   \n",
       "1   354399084   doctors       None   \n",
       "2   354399343   doctors       None   \n",
       "3  1667420596  pharmacy   pharmacy   \n",
       "4   354400197   doctors     doctor   \n",
       "\n",
       "                                              name  \\\n",
       "0                  Van Horne Family Medical Clinic   \n",
       "1                  Hopkinton Family Medical Center   \n",
       "2                                  Covenant Clinic   \n",
       "3                                         Rite Aid   \n",
       "4  Genesis Health Group, Clinton Internal Medicine   \n",
       "\n",
       "                        operator source         speciality operator_type  \\\n",
       "0          Virginia Gay Hospital   None               None          None   \n",
       "1        Regional Medical Center   None               None          None   \n",
       "2  Wheaton Franciscan Healthcare   None               None          None   \n",
       "3                           None   None               None          None   \n",
       "4                           None   None  internal_medicine          None   \n",
       "\n",
       "                                       opening_hours num_beds house_number  \\\n",
       "0      Mo-Th 08:00-12:00,13:00-17:00; Fr 08:00-12:00     None          205   \n",
       "1   Mo,Tu,Th 08:00-12:00,01:00-17:00; Fr 08:00-12:00     None          122   \n",
       "2                                  Mo-Fr 08:30-17:00     None         1094   \n",
       "3  Mo-Fr 08:00-21:00; Sa 09:00-18:00; Su 10:00-17...     None         2170   \n",
       "4                                  Mo-Fr 08:00-17:00     None          221   \n",
       "\n",
       "                         street postcode        city  \\\n",
       "0                   Main Street    52346   Van Horne   \n",
       "1          1st Street Southwest    52310  Monticello   \n",
       "2                  220th Street    50648       Jesup   \n",
       "3  Frederick Douglass Boulevard    10026        None   \n",
       "4                   Main Avenue    52732     Clinton   \n",
       "\n",
       "                     geometry osm_type iso3c  \\\n",
       "0  POINT (-92.09074 42.00889)     node   USA   \n",
       "1   POINT (-91.24876 42.3437)     node   USA   \n",
       "2  POINT (-92.06211 42.46773)     node   USA   \n",
       "3  POINT (-73.95453 40.80515)     node   USA   \n",
       "4  POINT (-90.18055 41.87299)     node   USA   \n",
       "\n",
       "                                     downloaded_from  \\\n",
       "0  https://data.humdata.org/organization/healthsites   \n",
       "1  https://data.humdata.org/organization/healthsites   \n",
       "2  https://data.humdata.org/organization/healthsites   \n",
       "3  https://data.humdata.org/organization/healthsites   \n",
       "4  https://data.humdata.org/organization/healthsites   \n",
       "\n",
       "                                             address  \n",
       "0            205, Main Street, 52346, Van Horne, USA  \n",
       "1  122, 1st Street Southwest, 52310, Monticello, USA  \n",
       "2              1094, 220th Street, 50648, Jesup, USA  \n",
       "3     2170, Frederick Douglass Boulevard, 10026, USA  \n",
       "4              221, Main Avenue, 52732, Clinton, USA  "
      ],
      "text/html": [
       "<div>\n",
       "<style scoped>\n",
       "    .dataframe tbody tr th:only-of-type {\n",
       "        vertical-align: middle;\n",
       "    }\n",
       "\n",
       "    .dataframe tbody tr th {\n",
       "        vertical-align: top;\n",
       "    }\n",
       "\n",
       "    .dataframe thead th {\n",
       "        text-align: right;\n",
       "    }\n",
       "</style>\n",
       "<table border=\"1\" class=\"dataframe\">\n",
       "  <thead>\n",
       "    <tr style=\"text-align: right;\">\n",
       "      <th></th>\n",
       "      <th>osm_id</th>\n",
       "      <th>amenity</th>\n",
       "      <th>healthcare</th>\n",
       "      <th>name</th>\n",
       "      <th>operator</th>\n",
       "      <th>source</th>\n",
       "      <th>speciality</th>\n",
       "      <th>operator_type</th>\n",
       "      <th>opening_hours</th>\n",
       "      <th>num_beds</th>\n",
       "      <th>house_number</th>\n",
       "      <th>street</th>\n",
       "      <th>postcode</th>\n",
       "      <th>city</th>\n",
       "      <th>geometry</th>\n",
       "      <th>osm_type</th>\n",
       "      <th>iso3c</th>\n",
       "      <th>downloaded_from</th>\n",
       "      <th>address</th>\n",
       "    </tr>\n",
       "  </thead>\n",
       "  <tbody>\n",
       "    <tr>\n",
       "      <th>0</th>\n",
       "      <td>354398914</td>\n",
       "      <td>doctors</td>\n",
       "      <td>None</td>\n",
       "      <td>Van Horne Family Medical Clinic</td>\n",
       "      <td>Virginia Gay Hospital</td>\n",
       "      <td>None</td>\n",
       "      <td>None</td>\n",
       "      <td>None</td>\n",
       "      <td>Mo-Th 08:00-12:00,13:00-17:00; Fr 08:00-12:00</td>\n",
       "      <td>None</td>\n",
       "      <td>205</td>\n",
       "      <td>Main Street</td>\n",
       "      <td>52346</td>\n",
       "      <td>Van Horne</td>\n",
       "      <td>POINT (-92.09074 42.00889)</td>\n",
       "      <td>node</td>\n",
       "      <td>USA</td>\n",
       "      <td>https://data.humdata.org/organization/healthsites</td>\n",
       "      <td>205, Main Street, 52346, Van Horne, USA</td>\n",
       "    </tr>\n",
       "    <tr>\n",
       "      <th>1</th>\n",
       "      <td>354399084</td>\n",
       "      <td>doctors</td>\n",
       "      <td>None</td>\n",
       "      <td>Hopkinton Family Medical Center</td>\n",
       "      <td>Regional Medical Center</td>\n",
       "      <td>None</td>\n",
       "      <td>None</td>\n",
       "      <td>None</td>\n",
       "      <td>Mo,Tu,Th 08:00-12:00,01:00-17:00; Fr 08:00-12:00</td>\n",
       "      <td>None</td>\n",
       "      <td>122</td>\n",
       "      <td>1st Street Southwest</td>\n",
       "      <td>52310</td>\n",
       "      <td>Monticello</td>\n",
       "      <td>POINT (-91.24876 42.3437)</td>\n",
       "      <td>node</td>\n",
       "      <td>USA</td>\n",
       "      <td>https://data.humdata.org/organization/healthsites</td>\n",
       "      <td>122, 1st Street Southwest, 52310, Monticello, USA</td>\n",
       "    </tr>\n",
       "    <tr>\n",
       "      <th>2</th>\n",
       "      <td>354399343</td>\n",
       "      <td>doctors</td>\n",
       "      <td>None</td>\n",
       "      <td>Covenant Clinic</td>\n",
       "      <td>Wheaton Franciscan Healthcare</td>\n",
       "      <td>None</td>\n",
       "      <td>None</td>\n",
       "      <td>None</td>\n",
       "      <td>Mo-Fr 08:30-17:00</td>\n",
       "      <td>None</td>\n",
       "      <td>1094</td>\n",
       "      <td>220th Street</td>\n",
       "      <td>50648</td>\n",
       "      <td>Jesup</td>\n",
       "      <td>POINT (-92.06211 42.46773)</td>\n",
       "      <td>node</td>\n",
       "      <td>USA</td>\n",
       "      <td>https://data.humdata.org/organization/healthsites</td>\n",
       "      <td>1094, 220th Street, 50648, Jesup, USA</td>\n",
       "    </tr>\n",
       "    <tr>\n",
       "      <th>3</th>\n",
       "      <td>1667420596</td>\n",
       "      <td>pharmacy</td>\n",
       "      <td>pharmacy</td>\n",
       "      <td>Rite Aid</td>\n",
       "      <td>None</td>\n",
       "      <td>None</td>\n",
       "      <td>None</td>\n",
       "      <td>None</td>\n",
       "      <td>Mo-Fr 08:00-21:00; Sa 09:00-18:00; Su 10:00-17...</td>\n",
       "      <td>None</td>\n",
       "      <td>2170</td>\n",
       "      <td>Frederick Douglass Boulevard</td>\n",
       "      <td>10026</td>\n",
       "      <td>None</td>\n",
       "      <td>POINT (-73.95453 40.80515)</td>\n",
       "      <td>node</td>\n",
       "      <td>USA</td>\n",
       "      <td>https://data.humdata.org/organization/healthsites</td>\n",
       "      <td>2170, Frederick Douglass Boulevard, 10026, USA</td>\n",
       "    </tr>\n",
       "    <tr>\n",
       "      <th>4</th>\n",
       "      <td>354400197</td>\n",
       "      <td>doctors</td>\n",
       "      <td>doctor</td>\n",
       "      <td>Genesis Health Group, Clinton Internal Medicine</td>\n",
       "      <td>None</td>\n",
       "      <td>None</td>\n",
       "      <td>internal_medicine</td>\n",
       "      <td>None</td>\n",
       "      <td>Mo-Fr 08:00-17:00</td>\n",
       "      <td>None</td>\n",
       "      <td>221</td>\n",
       "      <td>Main Avenue</td>\n",
       "      <td>52732</td>\n",
       "      <td>Clinton</td>\n",
       "      <td>POINT (-90.18055 41.87299)</td>\n",
       "      <td>node</td>\n",
       "      <td>USA</td>\n",
       "      <td>https://data.humdata.org/organization/healthsites</td>\n",
       "      <td>221, Main Avenue, 52732, Clinton, USA</td>\n",
       "    </tr>\n",
       "  </tbody>\n",
       "</table>\n",
       "</div>"
      ]
     },
     "execution_count": 7,
     "metadata": {},
     "output_type": "execute_result"
    }
   ],
   "execution_count": 7
  },
  {
   "metadata": {
    "ExecuteTime": {
     "end_time": "2025-02-16T07:39:38.480878Z",
     "start_time": "2025-02-16T07:39:28.367430Z"
    }
   },
   "cell_type": "code",
   "source": [
    "# Load UK health data\n",
    "uk_health_node_raw = load_health_data(\"../data-raw/hdx/United Kingdom/United Kingdom-node.shp\", \"node\")\n",
    "uk_health_way_raw = load_health_data(\"../data-raw/hdx/United Kingdom/United Kingdom-way.shp\", \"way\")\n",
    "\n",
    "# Combine UK datasets\n",
    "uk_health_combined = pd.concat([uk_health_node_raw, uk_health_way_raw], ignore_index=True)\n",
    "\n",
    "# Rename columns\n",
    "uk_health_data = uk_health_combined.rename(columns={\n",
    "    \"operator_t\": \"operator_type\",\n",
    "    \"operationa\": \"operational\",\n",
    "    \"contact_nu\": \"contact_number\",\n",
    "    \"opening_ho\": \"opening_hours\",\n",
    "    \"beds\": \"num_beds\",\n",
    "    \"staff_doct\": \"staff_docter\",\n",
    "    \"staff_nurs\": \"staff_nursery\",\n",
    "    \"health_ame\": \"health_amenities\",\n",
    "    \"water_sour\": \"water_source\",\n",
    "    \"electricit\": \"electricity\",\n",
    "    \"addr_stree\": \"street\",\n",
    "    \"addr_postc\": \"postcode\",\n",
    "    \"addr_city\": \"city\",\n",
    "    \"addr_house\": \"house_number\"\n",
    "})\n",
    "\n",
    "# Drop unnecessary columns\n",
    "uk_health_data = uk_health_data.drop(columns=cols_to_drop, errors=\"ignore\")\n",
    "\n",
    "# Create full address column\n",
    "uk_health_data[\"iso3c\"] = \"GBR\"\n",
    "uk_health_data[\"downloaded_from\"] = \"https://data.humdata.org/organization/healthsites\"\n",
    "\n",
    "uk_health_data[\"address\"] = uk_health_data[[\"house_number\", \"street\", \"postcode\", \"city\", \"iso3c\"]].apply(\n",
    "    lambda x: \", \".join(x.dropna().astype(str)), axis=1\n",
    ")\n"
   ],
   "id": "3a5be1e3c32e3875",
   "outputs": [
    {
     "name": "stdout",
     "output_type": "stream",
     "text": [
      "⚠️ UTF-8 decoding failed for ../data-raw/hdx/United Kingdom/United Kingdom-node.shp. Trying ISO-8859-1...\n"
     ]
    }
   ],
   "execution_count": 8
  },
  {
   "metadata": {},
   "cell_type": "code",
   "outputs": [],
   "execution_count": null,
   "source": "",
   "id": "621eb659fdc754b8"
  },
  {
   "metadata": {
    "ExecuteTime": {
     "end_time": "2025-02-16T07:40:47.092495Z",
     "start_time": "2025-02-16T07:40:43.913188Z"
    }
   },
   "cell_type": "code",
   "source": [
    "# Load Nigeria health data (GeoJSON format)\n",
    "ng_health_raw = gpd.read_file(\"../data-raw/hdx/nigeria.geojson\")\n",
    "\n",
    "# Rename columns\n",
    "ng_health_data = ng_health_raw.rename(columns={\n",
    "    \"addr_street\": \"street\",\n",
    "    \"addr_postcode\": \"postcode\",\n",
    "    \"addr_city\": \"city\",\n",
    "    \"addr_housenumber\": \"house_number\",\n",
    "    \"beds\": \"num_beds\"\n",
    "})\n",
    "\n",
    "# Drop unnecessary columns\n",
    "cols_to_drop_ng = [\"operational_status\", \"water_source\", \"insurance\", \"staff_doctors\", \"staff_nurses\", \n",
    "                   \"health_amenity_type\", \"wheelchair\", \"emergency\", \"electricity\", \n",
    "                   \"is_in_health_area\", \"is_in_health_zone\", \"changeset_id\", \"dispensing\", \n",
    "                   \"url\", \"changeset_id\", \"changeset_version\", \"changeset_timestamp\", \n",
    "                   \"uuid\", \"completeness\"]\n",
    "\n",
    "ng_health_data = ng_health_data.drop(columns=cols_to_drop_ng, errors=\"ignore\")\n",
    "\n",
    "# Create full address column\n",
    "ng_health_data[\"iso3c\"] = \"NGA\"\n",
    "ng_health_data[\"downloaded_from\"] = \"https://data.humdata.org/organization/healthsites\"\n",
    "\n",
    "ng_health_data[\"address\"] = ng_health_data[[\"house_number\", \"street\", \"postcode\", \"city\", \"iso3c\"]].apply(\n",
    "    lambda x: \", \".join(x.dropna().astype(str)), axis=1\n",
    ")\n",
    "\n",
    "# Select and reorder columns\n",
    "selected_columns = [\"osm_id\", \"amenity\", \"healthcare\", \"name\", \"operator\", \"source\", \"speciality\", \n",
    "                    \"operator_type\", \"opening_hours\", \"num_beds\", \"house_number\", \"street\", \n",
    "                    \"postcode\", \"city\", \"osm_type\", \"geometry\", \"iso3c\", \"downloaded_from\", \"address\"]\n",
    "\n",
    "ng_health_data = ng_health_data[selected_columns]\n",
    "ng_health_data[\"osm_id\"] = ng_health_data[\"osm_id\"].astype(str)\n"
   ],
   "id": "79d6f794cc007ca1",
   "outputs": [],
   "execution_count": 9
  },
  {
   "metadata": {
    "ExecuteTime": {
     "end_time": "2025-02-16T07:41:00.485887Z",
     "start_time": "2025-02-16T07:41:00.409885Z"
    }
   },
   "cell_type": "code",
   "source": [
    "# Combine all datasets\n",
    "health_data = pd.concat([ng_health_data, us_health_data, uk_health_data], ignore_index=True)"
   ],
   "id": "62156c12d2fdfa2b",
   "outputs": [],
   "execution_count": 10
  },
  {
   "metadata": {
    "ExecuteTime": {
     "end_time": "2025-02-16T07:41:43.489630Z",
     "start_time": "2025-02-16T07:41:42.041780Z"
    }
   },
   "cell_type": "code",
   "source": [
    "# Save the cleaned data\n",
    "health_data.to_parquet(\"../data/hdx_health_data_ng_us_uk_beta.parquet\", engine=\"pyarrow\")"
   ],
   "id": "bad58c42fe49df7a",
   "outputs": [],
   "execution_count": 12
  },
  {
   "metadata": {
    "ExecuteTime": {
     "end_time": "2025-02-16T07:43:39.321830Z",
     "start_time": "2025-02-16T07:43:39.314662Z"
    }
   },
   "cell_type": "code",
   "source": "len(health_data)",
   "id": "fb4a94231be5c234",
   "outputs": [
    {
     "data": {
      "text/plain": [
       "150924"
      ]
     },
     "execution_count": 15,
     "metadata": {},
     "output_type": "execute_result"
    }
   ],
   "execution_count": 15
  },
  {
   "metadata": {
    "ExecuteTime": {
     "end_time": "2025-02-16T07:44:20.654281Z",
     "start_time": "2025-02-16T07:44:20.644963Z"
    }
   },
   "cell_type": "code",
   "source": "len(us_health_data)",
   "id": "e26793642f71cfef",
   "outputs": [
    {
     "data": {
      "text/plain": [
       "117352"
      ]
     },
     "execution_count": 16,
     "metadata": {},
     "output_type": "execute_result"
    }
   ],
   "execution_count": 16
  },
  {
   "metadata": {
    "ExecuteTime": {
     "end_time": "2025-02-16T07:44:29.863037Z",
     "start_time": "2025-02-16T07:44:29.854214Z"
    }
   },
   "cell_type": "code",
   "source": "len(uk_health_data)",
   "id": "bf4ae0c56782ba05",
   "outputs": [
    {
     "data": {
      "text/plain": [
       "26738"
      ]
     },
     "execution_count": 17,
     "metadata": {},
     "output_type": "execute_result"
    }
   ],
   "execution_count": 17
  },
  {
   "metadata": {
    "ExecuteTime": {
     "end_time": "2025-02-16T07:44:37.828850Z",
     "start_time": "2025-02-16T07:44:37.818320Z"
    }
   },
   "cell_type": "code",
   "source": "len(ng_health_data)",
   "id": "84d5e9d1ca54f0a4",
   "outputs": [
    {
     "data": {
      "text/plain": [
       "6834"
      ]
     },
     "execution_count": 18,
     "metadata": {},
     "output_type": "execute_result"
    }
   ],
   "execution_count": 18
  }
 ],
 "metadata": {
  "kernelspec": {
   "display_name": "Python 3",
   "language": "python",
   "name": "python3"
  },
  "language_info": {
   "codemirror_mode": {
    "name": "ipython",
    "version": 2
   },
   "file_extension": ".py",
   "mimetype": "text/x-python",
   "name": "python",
   "nbconvert_exporter": "python",
   "pygments_lexer": "ipython2",
   "version": "2.7.6"
  }
 },
 "nbformat": 4,
 "nbformat_minor": 5
}
